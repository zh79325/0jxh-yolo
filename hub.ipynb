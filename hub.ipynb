{
  "cells": [
    {
      "cell_type": "markdown",
      "metadata": {
        "id": "FIzICjaph_Wy"
      },
      "source": [
        "<a align=\"center\" href=\"https://ultralytics.com/hub\" target=\"_blank\">\n",
        "<img width=\"1024\", src=\"https://github.com/ultralytics/assets/raw/main/im/ultralytics-hub.png\"></a>\n",
        "\n",
        "<div align=\"center\">\n",
        "\n",
        "[中文](https://docs.ultralytics.com/zh/hub/) | [한국어](https://docs.ultralytics.com/ko/hub/) | [日本語](https://docs.ultralytics.com/ja/hub/) | [Русский](https://docs.ultralytics.com/ru/hub/) | [Deutsch](https://docs.ultralytics.com/de/hub/) | [Français](https://docs.ultralytics.com/fr/hub/) | [Español](https://docs.ultralytics.com/es/hub/) | [Português](https://docs.ultralytics.com/pt/hub/) | [Türkçe](https://docs.ultralytics.com/tr/hub/) | [Tiếng Việt](https://docs.ultralytics.com/vi/hub/) | [العربية](https://docs.ultralytics.com/ar/hub/)\n",
        "\n",
        "  <a href=\"https://github.com/ultralytics/hub/actions/workflows/ci.yaml\"><img src=\"https://github.com/ultralytics/hub/actions/workflows/ci.yaml/badge.svg\" alt=\"CI CPU\"></a>\n",
        "  <a href=\"https://colab.research.google.com/github/ultralytics/hub/blob/main/hub.ipynb\"><img src=\"https://colab.research.google.com/assets/colab-badge.svg\" alt=\"Open In Colab\"></a>\n",
        "\n",
        "  <a href=\"https://ultralytics.com/discord\"><img alt=\"Discord\" src=\"https://img.shields.io/discord/1089800235347353640?logo=discord&logoColor=white&label=Discord&color=blue\"></a>\n",
        "  <a href=\"https://community.ultralytics.com\"><img alt=\"Ultralytics Forums\" src=\"https://img.shields.io/discourse/users?server=https%3A%2F%2Fcommunity.ultralytics.com&logo=discourse&label=Forums&color=blue\"></a>\n",
        "  <a href=\"https://reddit.com/r/ultralytics\"><img alt=\"Ultralytics Reddit\" src=\"https://img.shields.io/reddit/subreddit-subscribers/ultralytics?style=flat&logo=reddit&logoColor=white&label=Reddit&color=blue\"></a>\n",
        "\n",
        "Welcome to the [Ultralytics](https://ultralytics.com/) HUB notebook!\n",
        "\n",
        "This notebook allows you to train Ultralytics [YOLO](https://github.com/ultralytics/ultralytics) 🚀 models using [HUB](https://hub.ultralytics.com/). Please browse the HUB <a href=\"https://docs.ultralytics.com/hub/\">Docs</a> for details, raise an issue on <a href=\"https://github.com/ultralytics/hub/issues/new/choose\">GitHub</a> for support, and join our <a href=\"https://ultralytics.com/discord\">Discord</a> community for questions and discussions!\n",
        "</div>"
      ]
    },
    {
      "cell_type": "markdown",
      "metadata": {
        "id": "eRQ2ow94MiOv"
      },
      "source": [
        "# Setup\n",
        "\n",
        "Pip install `ultralytics` and [dependencies](https://github.com/ultralytics/ultralytics/blob/main/pyproject.toml) and check software and hardware.\n",
        "\n",
        "[![PyPI - Version](https://img.shields.io/pypi/v/ultralytics?logo=pypi&logoColor=white)](https://pypi.org/project/ultralytics/) [![Downloads](https://static.pepy.tech/badge/ultralytics)](https://www.pepy.tech/projects/ultralytics) [![PyPI - Python Version](https://img.shields.io/pypi/pyversions/ultralytics?logo=python&logoColor=gold)](https://pypi.org/project/ultralytics/)"
      ]
    },
    {
      "cell_type": "code",
      "execution_count": 24,
      "metadata": {
        "colab": {
          "base_uri": "https://localhost:8080/"
        },
        "id": "FyDnXd-n4c7Y",
        "outputId": "b8674c71-3183-4e0a-9db5-15f5381bf60c"
      },
      "outputs": [
        {
          "output_type": "stream",
          "name": "stdout",
          "text": [
            "Ultralytics 8.3.29 🚀 Python-3.10.12 torch-2.5.0+cu121 CUDA:0 (Tesla T4, 15102MiB)\n",
            "Setup complete ✅ (8 CPUs, 51.0 GB RAM, 32.9/235.7 GB disk)\n",
            "Downloading https://github.com/zh79325/jxh-ai-server/archive/refs/heads/main.zip to '/content/codes/main.zip'...\n"
          ]
        },
        {
          "output_type": "stream",
          "name": "stderr",
          "text": [
            "139MB [00:10, 14.2MB/s]\n",
            "Unzipping /content/codes/main.zip to /content/codes/jxh-ai-server-main...: 100%|██████████| 48/48 [00:01<00:00, 42.95file/s]\n"
          ]
        }
      ],
      "source": [
        "import locale\n",
        "def getpreferredencoding(do_setlocale = True):\n",
        "    return \"UTF-8\"\n",
        "locale.getpreferredencoding = getpreferredencoding\n",
        "%pip install ultralytics  # install\n",
        "from ultralytics import YOLO, checks, hub\n",
        "from ultralytics.utils.files import WorkingDirectory\n",
        "from ultralytics.utils.downloads import download\n",
        "import shutil\n",
        "from pathlib import Path\n",
        "import os\n",
        "import numpy as np\n",
        "import pandas as pd\n",
        "from tqdm import tqdm\n",
        "checks()  # checks\n",
        "\n",
        "current = os.path.dirname(os.path.abspath('__file__'))\n",
        "parent = Path(current+'/codes')\n",
        "if  parent.exists():\n",
        "  shutil.rmtree(parent)\n",
        "os.makedirs(parent)\n",
        "download('https://github.com/zh79325/jxh-ai-server/archive/refs/heads/main.zip',dir=parent)\n",
        "\n"
      ]
    },
    {
      "cell_type": "markdown",
      "source": [
        "# Download Dataset\n"
      ],
      "metadata": {
        "id": "Rp-mvpaVwkGy"
      }
    },
    {
      "cell_type": "code",
      "source": [
        "import os\n",
        "import numpy as np\n",
        "import pandas as pd\n",
        "from tqdm import tqdm\n",
        "import pandas as pd\n",
        "from glob import glob\n",
        "import shutil\n",
        "import yaml\n",
        "import json\n",
        "import urllib\n",
        "from ultralytics.utils.downloads import download\n",
        "checks()  # checks\n",
        "dataset_url='https://aiimg.obs.cn-east-3.myhuaweicloud.com/train/dataset/project-4-at-2024-11-13-00-59-ce04fdff.zip'\n",
        "current = os.path.dirname(os.path.abspath('__file__'))\n",
        "root = current+'/codes/jxh-ai-server-main/jxh-ai-models'\n",
        "datasset_folder=Path(root+'/ls-export')\n",
        "folder=root+'/dataset-download'\n",
        "datasset_download_folder =Path(folder)\n",
        "if  datasset_download_folder.exists():\n",
        "  shutil.rmtree(datasset_download_folder)\n",
        "os.makedirs(datasset_download_folder)\n",
        "download(dataset_url,datasset_download_folder)\n",
        "subfolders= [f.path for f in os.scandir(folder) if f.is_dir()]\n",
        "folder=subfolders[0]\n",
        "datasets = root+'/yolo_datasets'\n",
        "model_yaml = os.path.abspath(f'{datasets}/data.yaml')\n",
        "print('\\n\\n\\n==========\\n\\n')\n",
        "print('datasset_download_folder=>',folder,end='\\n')\n",
        "txts = glob(folder + '/**/*.txt')\n",
        "images = glob(folder + '/**/*.jpg')\n",
        "\n",
        "# Create DataFrame\n",
        "df = pd.DataFrame({'txt': txts, 'image': images})\n",
        "\n",
        "if os.path.exists(datasets):\n",
        "    shutil.rmtree(datasets)\n",
        "# Shuffle and split data\n",
        "df = df.sample(frac=1, random_state=42).reset_index(drop=True)\n",
        "all_train = len(df) < 20\n",
        "train_size = int(0.8 * len(df))\n",
        "if all_train:\n",
        "    train_size = len(df)\n",
        "train_df = df.iloc[:train_size]\n",
        "test_df = []\n",
        "val_df = []\n",
        "if all_train:\n",
        "    test_df = train_df\n",
        "    val_df = train_df\n",
        "else:\n",
        "    test_df = df.iloc[train_size:]\n",
        "    val_df = test_df.sample(frac=0.5)\n",
        "    test_df = test_df.drop(val_df.index)\n",
        "\n",
        "print('building data set')\n",
        "# Create directories\n",
        "for split in ['train', 'test', 'val']:\n",
        "    os.makedirs(f'{datasets}/{split}/images', exist_ok=True)\n",
        "    os.makedirs(f'{datasets}/{split}/labels', exist_ok=True)\n",
        "\n",
        "# Copy files to respective directories\n",
        "for split, split_df in [('train', train_df), ('test', test_df), ('val', val_df)]:\n",
        "    for _, row in split_df.iterrows():\n",
        "        shutil.copy(row['image'], f'{datasets}/{split}/images')\n",
        "        shutil.copy(row['txt'], f'{datasets}/{split}/labels')\n",
        "\n",
        "with open(f'{folder}/notes.json', 'r') as file:\n",
        "    notes = json.load(file)\n",
        "\n",
        "labelList = []\n",
        "for label in notes['categories']:\n",
        "    name = urllib.parse.unquote(label['name'])\n",
        "    labelList.append(name)\n",
        "\n",
        "print(\"parse yaml success labels =>\", labelList)\n",
        "\n",
        "data = dict(\n",
        "    train='train/images',\n",
        "    val='val/images',\n",
        "    test='test/images',\n",
        "    nc=len(labelList),\n",
        "    names=labelList\n",
        ")\n",
        "with open(model_yaml, 'w') as outfile:\n",
        "    yaml.dump(data, outfile, default_flow_style=False)\n",
        "\n",
        "print('finish model_yaml in=>', model_yaml)\n"
      ],
      "metadata": {
        "colab": {
          "base_uri": "https://localhost:8080/"
        },
        "id": "PE5AKmeGwugj",
        "outputId": "b2701edc-9e2b-428c-8f8d-ca6334bc7c39"
      },
      "execution_count": 25,
      "outputs": [
        {
          "output_type": "stream",
          "name": "stdout",
          "text": [
            "Ultralytics 8.3.29 🚀 Python-3.10.12 torch-2.5.0+cu121 CUDA:0 (Tesla T4, 15102MiB)\n",
            "Setup complete ✅ (8 CPUs, 51.0 GB RAM, 32.9/235.7 GB disk)\n",
            "Downloading https://aiimg.obs.cn-east-3.myhuaweicloud.com/train/dataset/project-4-at-2024-11-13-00-59-ce04fdff.zip to '/content/codes/jxh-ai-server-main/jxh-ai-models/dataset-download/project-4-at-2024-11-13-00-59-ce04fdff.zip'...\n"
          ]
        },
        {
          "output_type": "stream",
          "name": "stderr",
          "text": [
            "100%|██████████| 2.59M/2.59M [00:00<00:00, 6.68MB/s]\n",
            "Unzipping /content/codes/jxh-ai-server-main/jxh-ai-models/dataset-download/project-4-at-2024-11-13-00-59-ce04fdff.zip to /content/codes/jxh-ai-server-main/jxh-ai-models/dataset-download/project-4-at-2024-11-13-00-59-ce04fdff...: 100%|██████████| 10/10 [00:00<00:00, 754.75file/s]"
          ]
        },
        {
          "output_type": "stream",
          "name": "stdout",
          "text": [
            "\n",
            "\n",
            "\n",
            "==========\n",
            "\n",
            "\n",
            "datasset_download_folder=> /content/codes/jxh-ai-server-main/jxh-ai-models/dataset-download/project-4-at-2024-11-13-00-59-ce04fdff\n",
            "building data set\n",
            "parse yaml success labels => ['五粮液', '剑南春', '劲酒', '底左1酒', '底左2酒', '底左3酒', '底左4酒', '底左5酒', '底左6酒', '底左7酒', '底左8酒', '红枸杞酒', '茅台王子', '西风十五年', '郎酒']\n",
            "finish model_yaml in=> /content/codes/jxh-ai-server-main/jxh-ai-models/yolo_datasets/data.yaml\n"
          ]
        },
        {
          "output_type": "stream",
          "name": "stderr",
          "text": [
            "\n"
          ]
        }
      ]
    },
    {
      "cell_type": "markdown",
      "source": [
        "# Train"
      ],
      "metadata": {
        "id": "b-KH33khNINk"
      }
    },
    {
      "cell_type": "code",
      "source": [
        "from ultralytics import YOLO\n",
        "init_model=root+'/models/input/yolo11l.pt'\n",
        "print('load init_model from =>',init_model)\n",
        "print('load model_yaml from =>',model_yaml)\n",
        "model = YOLO(init_model)  # build a new model from YAML\n",
        "results = model.train(data=model_yaml, epochs=100, imgsz=1440)"
      ],
      "metadata": {
        "colab": {
          "base_uri": "https://localhost:8080/"
        },
        "id": "xPprLgNKNPaY",
        "outputId": "38fd0d73-4969-46b6-ada6-df1d4d942cf3"
      },
      "execution_count": null,
      "outputs": [
        {
          "output_type": "stream",
          "name": "stdout",
          "text": [
            "load init_model from => /content/codes/jxh-ai-server-main/jxh-ai-models/models/input/yolo11l.pt\n",
            "load model_yaml from => /content/codes/jxh-ai-server-main/jxh-ai-models/yolo_datasets/data.yaml\n",
            "Ultralytics 8.3.29 🚀 Python-3.10.12 torch-2.5.0+cu121 CUDA:0 (Tesla T4, 15102MiB)\n",
            "\u001b[34m\u001b[1mengine/trainer: \u001b[0mtask=detect, mode=train, model=/content/codes/jxh-ai-server-main/jxh-ai-models/models/input/yolo11l.pt, data=/content/codes/jxh-ai-server-main/jxh-ai-models/yolo_datasets/data.yaml, epochs=100, time=None, patience=100, batch=16, imgsz=1440, save=True, save_period=-1, cache=False, device=None, workers=8, project=None, name=train3, exist_ok=False, pretrained=True, optimizer=auto, verbose=True, seed=0, deterministic=True, single_cls=False, rect=False, cos_lr=False, close_mosaic=10, resume=False, amp=True, fraction=1.0, profile=False, freeze=None, multi_scale=False, overlap_mask=True, mask_ratio=4, dropout=0.0, val=True, split=val, save_json=False, save_hybrid=False, conf=None, iou=0.7, max_det=300, half=False, dnn=False, plots=True, source=None, vid_stride=1, stream_buffer=False, visualize=False, augment=False, agnostic_nms=False, classes=None, retina_masks=False, embed=None, show=False, save_frames=False, save_txt=False, save_conf=False, save_crop=False, show_labels=True, show_conf=True, show_boxes=True, line_width=None, format=torchscript, keras=False, optimize=False, int8=False, dynamic=False, simplify=True, opset=None, workspace=4, nms=False, lr0=0.01, lrf=0.01, momentum=0.937, weight_decay=0.0005, warmup_epochs=3.0, warmup_momentum=0.8, warmup_bias_lr=0.1, box=7.5, cls=0.5, dfl=1.5, pose=12.0, kobj=1.0, label_smoothing=0.0, nbs=64, hsv_h=0.015, hsv_s=0.7, hsv_v=0.4, degrees=0.0, translate=0.1, scale=0.5, shear=0.0, perspective=0.0, flipud=0.0, fliplr=0.5, bgr=0.0, mosaic=1.0, mixup=0.0, copy_paste=0.0, copy_paste_mode=flip, auto_augment=randaugment, erasing=0.4, crop_fraction=1.0, cfg=None, tracker=botsort.yaml, save_dir=runs/detect/train3\n",
            "Overriding model.yaml nc=80 with nc=15\n",
            "\n",
            "                   from  n    params  module                                       arguments                     \n",
            "  0                  -1  1      1856  ultralytics.nn.modules.conv.Conv             [3, 64, 3, 2]                 \n",
            "  1                  -1  1     73984  ultralytics.nn.modules.conv.Conv             [64, 128, 3, 2]               \n",
            "  2                  -1  2    173824  ultralytics.nn.modules.block.C3k2            [128, 256, 2, True, 0.25]     \n",
            "  3                  -1  1    590336  ultralytics.nn.modules.conv.Conv             [256, 256, 3, 2]              \n",
            "  4                  -1  2    691712  ultralytics.nn.modules.block.C3k2            [256, 512, 2, True, 0.25]     \n",
            "  5                  -1  1   2360320  ultralytics.nn.modules.conv.Conv             [512, 512, 3, 2]              \n",
            "  6                  -1  2   2234368  ultralytics.nn.modules.block.C3k2            [512, 512, 2, True]           \n",
            "  7                  -1  1   2360320  ultralytics.nn.modules.conv.Conv             [512, 512, 3, 2]              \n",
            "  8                  -1  2   2234368  ultralytics.nn.modules.block.C3k2            [512, 512, 2, True]           \n",
            "  9                  -1  1    656896  ultralytics.nn.modules.block.SPPF            [512, 512, 5]                 \n",
            " 10                  -1  2   1455616  ultralytics.nn.modules.block.C2PSA           [512, 512, 2]                 \n",
            " 11                  -1  1         0  torch.nn.modules.upsampling.Upsample         [None, 2, 'nearest']          \n",
            " 12             [-1, 6]  1         0  ultralytics.nn.modules.conv.Concat           [1]                           \n",
            " 13                  -1  2   2496512  ultralytics.nn.modules.block.C3k2            [1024, 512, 2, True]          \n",
            " 14                  -1  1         0  torch.nn.modules.upsampling.Upsample         [None, 2, 'nearest']          \n",
            " 15             [-1, 4]  1         0  ultralytics.nn.modules.conv.Concat           [1]                           \n",
            " 16                  -1  2    756736  ultralytics.nn.modules.block.C3k2            [1024, 256, 2, True]          \n",
            " 17                  -1  1    590336  ultralytics.nn.modules.conv.Conv             [256, 256, 3, 2]              \n",
            " 18            [-1, 13]  1         0  ultralytics.nn.modules.conv.Concat           [1]                           \n",
            " 19                  -1  2   2365440  ultralytics.nn.modules.block.C3k2            [768, 512, 2, True]           \n",
            " 20                  -1  1   2360320  ultralytics.nn.modules.conv.Conv             [512, 512, 3, 2]              \n",
            " 21            [-1, 10]  1         0  ultralytics.nn.modules.conv.Concat           [1]                           \n",
            " 22                  -1  2   2496512  ultralytics.nn.modules.block.C3k2            [1024, 512, 2, True]          \n",
            " 23        [16, 19, 22]  1   1422589  ultralytics.nn.modules.head.Detect           [15, [256, 512, 512]]         \n",
            "YOLO11l summary: 631 layers, 25,322,045 parameters, 25,322,029 gradients, 87.3 GFLOPs\n",
            "\n",
            "Transferred 1009/1015 items from pretrained weights\n",
            "\u001b[34m\u001b[1mTensorBoard: \u001b[0mStart with 'tensorboard --logdir runs/detect/train3', view at http://localhost:6006/\n",
            "Freezing layer 'model.23.dfl.conv.weight'\n",
            "\u001b[34m\u001b[1mAMP: \u001b[0mrunning Automatic Mixed Precision (AMP) checks...\n",
            "\u001b[34m\u001b[1mAMP: \u001b[0mchecks passed ✅\n"
          ]
        },
        {
          "output_type": "stream",
          "name": "stderr",
          "text": [
            "\u001b[34m\u001b[1mtrain: \u001b[0mScanning /content/codes/jxh-ai-server-main/jxh-ai-models/yolo_datasets/train/labels... 3 images, 0 backgrounds, 0 corrupt: 100%|██████████| 3/3 [00:00<00:00, 1082.12it/s]"
          ]
        },
        {
          "output_type": "stream",
          "name": "stdout",
          "text": [
            "\u001b[34m\u001b[1mtrain: \u001b[0mNew cache created: /content/codes/jxh-ai-server-main/jxh-ai-models/yolo_datasets/train/labels.cache\n",
            "\u001b[34m\u001b[1malbumentations: \u001b[0mBlur(p=0.01, blur_limit=(3, 7)), MedianBlur(p=0.01, blur_limit=(3, 7)), ToGray(p=0.01, num_output_channels=3, method='weighted_average'), CLAHE(p=0.01, clip_limit=(1.0, 4.0), tile_grid_size=(8, 8))\n"
          ]
        },
        {
          "output_type": "stream",
          "name": "stderr",
          "text": [
            "\n",
            "\u001b[34m\u001b[1mval: \u001b[0mScanning /content/codes/jxh-ai-server-main/jxh-ai-models/yolo_datasets/val/labels... 3 images, 0 backgrounds, 0 corrupt: 100%|██████████| 3/3 [00:00<00:00, 725.74it/s]"
          ]
        },
        {
          "output_type": "stream",
          "name": "stdout",
          "text": [
            "\u001b[34m\u001b[1mval: \u001b[0mNew cache created: /content/codes/jxh-ai-server-main/jxh-ai-models/yolo_datasets/val/labels.cache\n"
          ]
        },
        {
          "output_type": "stream",
          "name": "stderr",
          "text": [
            "\n"
          ]
        },
        {
          "output_type": "stream",
          "name": "stdout",
          "text": [
            "Plotting labels to runs/detect/train3/labels.jpg... \n"
          ]
        },
        {
          "output_type": "stream",
          "name": "stderr",
          "text": [
            "/usr/local/lib/python3.10/dist-packages/ultralytics/utils/plotting.py:909: UserWarning: Glyph 20116 (\\N{CJK UNIFIED IDEOGRAPH-4E94}) missing from current font.\n",
            "  plt.savefig(fname, dpi=200)\n",
            "/usr/local/lib/python3.10/dist-packages/ultralytics/utils/plotting.py:909: UserWarning: Glyph 31918 (\\N{CJK UNIFIED IDEOGRAPH-7CAE}) missing from current font.\n",
            "  plt.savefig(fname, dpi=200)\n",
            "/usr/local/lib/python3.10/dist-packages/ultralytics/utils/plotting.py:909: UserWarning: Glyph 28082 (\\N{CJK UNIFIED IDEOGRAPH-6DB2}) missing from current font.\n",
            "  plt.savefig(fname, dpi=200)\n",
            "/usr/local/lib/python3.10/dist-packages/ultralytics/utils/plotting.py:909: UserWarning: Glyph 21073 (\\N{CJK UNIFIED IDEOGRAPH-5251}) missing from current font.\n",
            "  plt.savefig(fname, dpi=200)\n",
            "/usr/local/lib/python3.10/dist-packages/ultralytics/utils/plotting.py:909: UserWarning: Glyph 21335 (\\N{CJK UNIFIED IDEOGRAPH-5357}) missing from current font.\n",
            "  plt.savefig(fname, dpi=200)\n",
            "/usr/local/lib/python3.10/dist-packages/ultralytics/utils/plotting.py:909: UserWarning: Glyph 26149 (\\N{CJK UNIFIED IDEOGRAPH-6625}) missing from current font.\n",
            "  plt.savefig(fname, dpi=200)\n",
            "/usr/local/lib/python3.10/dist-packages/ultralytics/utils/plotting.py:909: UserWarning: Glyph 21170 (\\N{CJK UNIFIED IDEOGRAPH-52B2}) missing from current font.\n",
            "  plt.savefig(fname, dpi=200)\n",
            "/usr/local/lib/python3.10/dist-packages/ultralytics/utils/plotting.py:909: UserWarning: Glyph 37202 (\\N{CJK UNIFIED IDEOGRAPH-9152}) missing from current font.\n",
            "  plt.savefig(fname, dpi=200)\n",
            "/usr/local/lib/python3.10/dist-packages/ultralytics/utils/plotting.py:909: UserWarning: Glyph 24213 (\\N{CJK UNIFIED IDEOGRAPH-5E95}) missing from current font.\n",
            "  plt.savefig(fname, dpi=200)\n",
            "/usr/local/lib/python3.10/dist-packages/ultralytics/utils/plotting.py:909: UserWarning: Glyph 24038 (\\N{CJK UNIFIED IDEOGRAPH-5DE6}) missing from current font.\n",
            "  plt.savefig(fname, dpi=200)\n",
            "/usr/local/lib/python3.10/dist-packages/ultralytics/utils/plotting.py:909: UserWarning: Glyph 32418 (\\N{CJK UNIFIED IDEOGRAPH-7EA2}) missing from current font.\n",
            "  plt.savefig(fname, dpi=200)\n",
            "/usr/local/lib/python3.10/dist-packages/ultralytics/utils/plotting.py:909: UserWarning: Glyph 26552 (\\N{CJK UNIFIED IDEOGRAPH-67B8}) missing from current font.\n",
            "  plt.savefig(fname, dpi=200)\n",
            "/usr/local/lib/python3.10/dist-packages/ultralytics/utils/plotting.py:909: UserWarning: Glyph 26462 (\\N{CJK UNIFIED IDEOGRAPH-675E}) missing from current font.\n",
            "  plt.savefig(fname, dpi=200)\n",
            "/usr/local/lib/python3.10/dist-packages/ultralytics/utils/plotting.py:909: UserWarning: Glyph 33541 (\\N{CJK UNIFIED IDEOGRAPH-8305}) missing from current font.\n",
            "  plt.savefig(fname, dpi=200)\n",
            "/usr/local/lib/python3.10/dist-packages/ultralytics/utils/plotting.py:909: UserWarning: Glyph 21488 (\\N{CJK UNIFIED IDEOGRAPH-53F0}) missing from current font.\n",
            "  plt.savefig(fname, dpi=200)\n",
            "/usr/local/lib/python3.10/dist-packages/ultralytics/utils/plotting.py:909: UserWarning: Glyph 29579 (\\N{CJK UNIFIED IDEOGRAPH-738B}) missing from current font.\n",
            "  plt.savefig(fname, dpi=200)\n",
            "/usr/local/lib/python3.10/dist-packages/ultralytics/utils/plotting.py:909: UserWarning: Glyph 23376 (\\N{CJK UNIFIED IDEOGRAPH-5B50}) missing from current font.\n",
            "  plt.savefig(fname, dpi=200)\n",
            "/usr/local/lib/python3.10/dist-packages/ultralytics/utils/plotting.py:909: UserWarning: Glyph 35199 (\\N{CJK UNIFIED IDEOGRAPH-897F}) missing from current font.\n",
            "  plt.savefig(fname, dpi=200)\n",
            "/usr/local/lib/python3.10/dist-packages/ultralytics/utils/plotting.py:909: UserWarning: Glyph 39118 (\\N{CJK UNIFIED IDEOGRAPH-98CE}) missing from current font.\n",
            "  plt.savefig(fname, dpi=200)\n",
            "/usr/local/lib/python3.10/dist-packages/ultralytics/utils/plotting.py:909: UserWarning: Glyph 21313 (\\N{CJK UNIFIED IDEOGRAPH-5341}) missing from current font.\n",
            "  plt.savefig(fname, dpi=200)\n",
            "/usr/local/lib/python3.10/dist-packages/ultralytics/utils/plotting.py:909: UserWarning: Glyph 24180 (\\N{CJK UNIFIED IDEOGRAPH-5E74}) missing from current font.\n",
            "  plt.savefig(fname, dpi=200)\n",
            "/usr/local/lib/python3.10/dist-packages/ultralytics/utils/plotting.py:909: UserWarning: Glyph 37070 (\\N{CJK UNIFIED IDEOGRAPH-90CE}) missing from current font.\n",
            "  plt.savefig(fname, dpi=200)\n",
            "/usr/local/lib/python3.10/dist-packages/ultralytics/utils/plotting.py:909: UserWarning: Glyph 20116 (\\N{CJK UNIFIED IDEOGRAPH-4E94}) missing from current font.\n",
            "  plt.savefig(fname, dpi=200)\n",
            "/usr/local/lib/python3.10/dist-packages/ultralytics/utils/plotting.py:909: UserWarning: Glyph 31918 (\\N{CJK UNIFIED IDEOGRAPH-7CAE}) missing from current font.\n",
            "  plt.savefig(fname, dpi=200)\n",
            "/usr/local/lib/python3.10/dist-packages/ultralytics/utils/plotting.py:909: UserWarning: Glyph 28082 (\\N{CJK UNIFIED IDEOGRAPH-6DB2}) missing from current font.\n",
            "  plt.savefig(fname, dpi=200)\n",
            "/usr/local/lib/python3.10/dist-packages/ultralytics/utils/plotting.py:909: UserWarning: Glyph 21073 (\\N{CJK UNIFIED IDEOGRAPH-5251}) missing from current font.\n",
            "  plt.savefig(fname, dpi=200)\n",
            "/usr/local/lib/python3.10/dist-packages/ultralytics/utils/plotting.py:909: UserWarning: Glyph 21335 (\\N{CJK UNIFIED IDEOGRAPH-5357}) missing from current font.\n",
            "  plt.savefig(fname, dpi=200)\n",
            "/usr/local/lib/python3.10/dist-packages/ultralytics/utils/plotting.py:909: UserWarning: Glyph 26149 (\\N{CJK UNIFIED IDEOGRAPH-6625}) missing from current font.\n",
            "  plt.savefig(fname, dpi=200)\n",
            "/usr/local/lib/python3.10/dist-packages/ultralytics/utils/plotting.py:909: UserWarning: Glyph 21170 (\\N{CJK UNIFIED IDEOGRAPH-52B2}) missing from current font.\n",
            "  plt.savefig(fname, dpi=200)\n",
            "/usr/local/lib/python3.10/dist-packages/ultralytics/utils/plotting.py:909: UserWarning: Glyph 37202 (\\N{CJK UNIFIED IDEOGRAPH-9152}) missing from current font.\n",
            "  plt.savefig(fname, dpi=200)\n",
            "/usr/local/lib/python3.10/dist-packages/ultralytics/utils/plotting.py:909: UserWarning: Glyph 24213 (\\N{CJK UNIFIED IDEOGRAPH-5E95}) missing from current font.\n",
            "  plt.savefig(fname, dpi=200)\n",
            "/usr/local/lib/python3.10/dist-packages/ultralytics/utils/plotting.py:909: UserWarning: Glyph 24038 (\\N{CJK UNIFIED IDEOGRAPH-5DE6}) missing from current font.\n",
            "  plt.savefig(fname, dpi=200)\n",
            "/usr/local/lib/python3.10/dist-packages/ultralytics/utils/plotting.py:909: UserWarning: Glyph 32418 (\\N{CJK UNIFIED IDEOGRAPH-7EA2}) missing from current font.\n",
            "  plt.savefig(fname, dpi=200)\n",
            "/usr/local/lib/python3.10/dist-packages/ultralytics/utils/plotting.py:909: UserWarning: Glyph 26552 (\\N{CJK UNIFIED IDEOGRAPH-67B8}) missing from current font.\n",
            "  plt.savefig(fname, dpi=200)\n",
            "/usr/local/lib/python3.10/dist-packages/ultralytics/utils/plotting.py:909: UserWarning: Glyph 26462 (\\N{CJK UNIFIED IDEOGRAPH-675E}) missing from current font.\n",
            "  plt.savefig(fname, dpi=200)\n",
            "/usr/local/lib/python3.10/dist-packages/ultralytics/utils/plotting.py:909: UserWarning: Glyph 33541 (\\N{CJK UNIFIED IDEOGRAPH-8305}) missing from current font.\n",
            "  plt.savefig(fname, dpi=200)\n",
            "/usr/local/lib/python3.10/dist-packages/ultralytics/utils/plotting.py:909: UserWarning: Glyph 21488 (\\N{CJK UNIFIED IDEOGRAPH-53F0}) missing from current font.\n",
            "  plt.savefig(fname, dpi=200)\n",
            "/usr/local/lib/python3.10/dist-packages/ultralytics/utils/plotting.py:909: UserWarning: Glyph 29579 (\\N{CJK UNIFIED IDEOGRAPH-738B}) missing from current font.\n",
            "  plt.savefig(fname, dpi=200)\n",
            "/usr/local/lib/python3.10/dist-packages/ultralytics/utils/plotting.py:909: UserWarning: Glyph 23376 (\\N{CJK UNIFIED IDEOGRAPH-5B50}) missing from current font.\n",
            "  plt.savefig(fname, dpi=200)\n",
            "/usr/local/lib/python3.10/dist-packages/ultralytics/utils/plotting.py:909: UserWarning: Glyph 35199 (\\N{CJK UNIFIED IDEOGRAPH-897F}) missing from current font.\n",
            "  plt.savefig(fname, dpi=200)\n",
            "/usr/local/lib/python3.10/dist-packages/ultralytics/utils/plotting.py:909: UserWarning: Glyph 39118 (\\N{CJK UNIFIED IDEOGRAPH-98CE}) missing from current font.\n",
            "  plt.savefig(fname, dpi=200)\n",
            "/usr/local/lib/python3.10/dist-packages/ultralytics/utils/plotting.py:909: UserWarning: Glyph 21313 (\\N{CJK UNIFIED IDEOGRAPH-5341}) missing from current font.\n",
            "  plt.savefig(fname, dpi=200)\n",
            "/usr/local/lib/python3.10/dist-packages/ultralytics/utils/plotting.py:909: UserWarning: Glyph 24180 (\\N{CJK UNIFIED IDEOGRAPH-5E74}) missing from current font.\n",
            "  plt.savefig(fname, dpi=200)\n",
            "/usr/local/lib/python3.10/dist-packages/ultralytics/utils/plotting.py:909: UserWarning: Glyph 37070 (\\N{CJK UNIFIED IDEOGRAPH-90CE}) missing from current font.\n",
            "  plt.savefig(fname, dpi=200)\n"
          ]
        },
        {
          "output_type": "stream",
          "name": "stdout",
          "text": [
            "\u001b[34m\u001b[1moptimizer:\u001b[0m 'optimizer=auto' found, ignoring 'lr0=0.01' and 'momentum=0.937' and determining best 'optimizer', 'lr0' and 'momentum' automatically... \n",
            "\u001b[34m\u001b[1moptimizer:\u001b[0m AdamW(lr=0.000526, momentum=0.9) with parameter groups 167 weight(decay=0.0), 174 weight(decay=0.0005), 173 bias(decay=0.0)\n",
            "\u001b[34m\u001b[1mTensorBoard: \u001b[0mmodel graph visualization added ✅\n",
            "Image sizes 1440 train, 1440 val\n",
            "Using 8 dataloader workers\n",
            "Logging results to \u001b[1mruns/detect/train3\u001b[0m\n",
            "Starting training for 100 epochs...\n",
            "\n",
            "      Epoch    GPU_mem   box_loss   cls_loss   dfl_loss  Instances       Size\n"
          ]
        },
        {
          "output_type": "stream",
          "name": "stderr",
          "text": [
            "      1/100        12G      3.281       4.82       1.98        712       1440: 100%|██████████| 1/1 [00:00<00:00,  1.17it/s]\n",
            "                 Class     Images  Instances      Box(P          R      mAP50  mAP50-95): 100%|██████████| 1/1 [00:00<00:00,  2.99it/s]"
          ]
        },
        {
          "output_type": "stream",
          "name": "stdout",
          "text": [
            "                   all          3        262          0          0          0          0\n"
          ]
        },
        {
          "output_type": "stream",
          "name": "stderr",
          "text": [
            "\n"
          ]
        },
        {
          "output_type": "stream",
          "name": "stdout",
          "text": [
            "\n",
            "      Epoch    GPU_mem   box_loss   cls_loss   dfl_loss  Instances       Size\n"
          ]
        },
        {
          "output_type": "stream",
          "name": "stderr",
          "text": [
            "      2/100        11G      3.288      5.003      2.242        366       1440: 100%|██████████| 1/1 [00:00<00:00,  1.21it/s]\n",
            "                 Class     Images  Instances      Box(P          R      mAP50  mAP50-95): 100%|██████████| 1/1 [00:00<00:00,  3.60it/s]"
          ]
        },
        {
          "output_type": "stream",
          "name": "stdout",
          "text": [
            "                   all          3        262          0          0          0          0\n"
          ]
        },
        {
          "output_type": "stream",
          "name": "stderr",
          "text": [
            "\n"
          ]
        },
        {
          "output_type": "stream",
          "name": "stdout",
          "text": [
            "\n",
            "      Epoch    GPU_mem   box_loss   cls_loss   dfl_loss  Instances       Size\n"
          ]
        },
        {
          "output_type": "stream",
          "name": "stderr",
          "text": [
            "      3/100      10.4G      3.099       4.97      2.103        280       1440: 100%|██████████| 1/1 [00:00<00:00,  1.18it/s]\n",
            "                 Class     Images  Instances      Box(P          R      mAP50  mAP50-95): 100%|██████████| 1/1 [00:00<00:00,  4.20it/s]"
          ]
        },
        {
          "output_type": "stream",
          "name": "stdout",
          "text": [
            "                   all          3        262          0          0          0          0\n"
          ]
        },
        {
          "output_type": "stream",
          "name": "stderr",
          "text": [
            "\n"
          ]
        },
        {
          "output_type": "stream",
          "name": "stdout",
          "text": [
            "\n",
            "      Epoch    GPU_mem   box_loss   cls_loss   dfl_loss  Instances       Size\n"
          ]
        },
        {
          "output_type": "stream",
          "name": "stderr",
          "text": [
            "      4/100      10.9G      3.189      4.955      2.103        532       1440: 100%|██████████| 1/1 [00:00<00:00,  1.10it/s]\n",
            "                 Class     Images  Instances      Box(P          R      mAP50  mAP50-95): 100%|██████████| 1/1 [00:00<00:00,  4.90it/s]"
          ]
        },
        {
          "output_type": "stream",
          "name": "stdout",
          "text": [
            "                   all          3        262          0          0          0          0\n"
          ]
        },
        {
          "output_type": "stream",
          "name": "stderr",
          "text": [
            "\n"
          ]
        },
        {
          "output_type": "stream",
          "name": "stdout",
          "text": [
            "\n",
            "      Epoch    GPU_mem   box_loss   cls_loss   dfl_loss  Instances       Size\n"
          ]
        },
        {
          "output_type": "stream",
          "name": "stderr",
          "text": [
            "      5/100      11.1G      2.905      4.615      2.038        340       1440: 100%|██████████| 1/1 [00:00<00:00,  1.17it/s]\n",
            "                 Class     Images  Instances      Box(P          R      mAP50  mAP50-95): 100%|██████████| 1/1 [00:00<00:00,  4.56it/s]"
          ]
        },
        {
          "output_type": "stream",
          "name": "stdout",
          "text": [
            "                   all          3        262     0.0121     0.0274     0.0072    0.00307\n"
          ]
        },
        {
          "output_type": "stream",
          "name": "stderr",
          "text": [
            "\n"
          ]
        },
        {
          "output_type": "stream",
          "name": "stdout",
          "text": [
            "\n",
            "      Epoch    GPU_mem   box_loss   cls_loss   dfl_loss  Instances       Size\n"
          ]
        },
        {
          "output_type": "stream",
          "name": "stderr",
          "text": [
            "      6/100      11.4G      3.029      4.369      1.677        721       1440: 100%|██████████| 1/1 [00:00<00:00,  1.12it/s]\n",
            "                 Class     Images  Instances      Box(P          R      mAP50  mAP50-95): 100%|██████████| 1/1 [00:00<00:00,  4.90it/s]"
          ]
        },
        {
          "output_type": "stream",
          "name": "stdout",
          "text": [
            "                   all          3        262      0.044      0.112     0.0493     0.0215\n"
          ]
        },
        {
          "output_type": "stream",
          "name": "stderr",
          "text": [
            "\n"
          ]
        },
        {
          "output_type": "stream",
          "name": "stdout",
          "text": [
            "\n",
            "      Epoch    GPU_mem   box_loss   cls_loss   dfl_loss  Instances       Size\n"
          ]
        },
        {
          "output_type": "stream",
          "name": "stderr",
          "text": [
            "      7/100      10.9G       2.68      4.396      1.939        191       1440: 100%|██████████| 1/1 [00:00<00:00,  1.20it/s]\n",
            "                 Class     Images  Instances      Box(P          R      mAP50  mAP50-95): 100%|██████████| 1/1 [00:00<00:00,  4.92it/s]"
          ]
        },
        {
          "output_type": "stream",
          "name": "stdout",
          "text": [
            "                   all          3        262     0.0441      0.116     0.0488     0.0219\n"
          ]
        },
        {
          "output_type": "stream",
          "name": "stderr",
          "text": [
            "\n"
          ]
        },
        {
          "output_type": "stream",
          "name": "stdout",
          "text": [
            "\n",
            "      Epoch    GPU_mem   box_loss   cls_loss   dfl_loss  Instances       Size\n"
          ]
        },
        {
          "output_type": "stream",
          "name": "stderr",
          "text": [
            "      8/100      11.6G       2.74      4.166       1.55        543       1440: 100%|██████████| 1/1 [00:00<00:00,  1.11it/s]\n",
            "                 Class     Images  Instances      Box(P          R      mAP50  mAP50-95): 100%|██████████| 1/1 [00:00<00:00,  4.83it/s]"
          ]
        },
        {
          "output_type": "stream",
          "name": "stdout",
          "text": [
            "                   all          3        262      0.353     0.0647     0.0814     0.0351\n"
          ]
        },
        {
          "output_type": "stream",
          "name": "stderr",
          "text": [
            "\n"
          ]
        },
        {
          "output_type": "stream",
          "name": "stdout",
          "text": [
            "\n",
            "      Epoch    GPU_mem   box_loss   cls_loss   dfl_loss  Instances       Size\n"
          ]
        },
        {
          "output_type": "stream",
          "name": "stderr",
          "text": [
            "      9/100      11.1G      2.594      3.717      1.758        261       1440: 100%|██████████| 1/1 [00:00<00:00,  1.17it/s]\n",
            "                 Class     Images  Instances      Box(P          R      mAP50  mAP50-95): 100%|██████████| 1/1 [00:00<00:00,  3.09it/s]"
          ]
        },
        {
          "output_type": "stream",
          "name": "stdout",
          "text": [
            "                   all          3        262      0.262     0.0956     0.0869     0.0375\n"
          ]
        },
        {
          "output_type": "stream",
          "name": "stderr",
          "text": [
            "\n"
          ]
        },
        {
          "output_type": "stream",
          "name": "stdout",
          "text": [
            "\n",
            "      Epoch    GPU_mem   box_loss   cls_loss   dfl_loss  Instances       Size\n"
          ]
        },
        {
          "output_type": "stream",
          "name": "stderr",
          "text": [
            "     10/100      11.3G      2.606       3.37      1.583        477       1440: 100%|██████████| 1/1 [00:00<00:00,  1.16it/s]\n",
            "                 Class     Images  Instances      Box(P          R      mAP50  mAP50-95): 100%|██████████| 1/1 [00:00<00:00,  2.77it/s]"
          ]
        },
        {
          "output_type": "stream",
          "name": "stdout",
          "text": [
            "                   all          3        262      0.075      0.228      0.125     0.0477\n"
          ]
        },
        {
          "output_type": "stream",
          "name": "stderr",
          "text": [
            "\n"
          ]
        },
        {
          "output_type": "stream",
          "name": "stdout",
          "text": [
            "\n",
            "      Epoch    GPU_mem   box_loss   cls_loss   dfl_loss  Instances       Size\n"
          ]
        },
        {
          "output_type": "stream",
          "name": "stderr",
          "text": [
            "     11/100        11G      2.619       3.33      1.446        448       1440: 100%|██████████| 1/1 [00:00<00:00,  1.14it/s]\n",
            "                 Class     Images  Instances      Box(P          R      mAP50  mAP50-95): 100%|██████████| 1/1 [00:00<00:00,  2.23it/s]"
          ]
        },
        {
          "output_type": "stream",
          "name": "stdout",
          "text": [
            "                   all          3        262      0.171      0.165      0.142     0.0522\n"
          ]
        },
        {
          "output_type": "stream",
          "name": "stderr",
          "text": [
            "\n"
          ]
        },
        {
          "output_type": "stream",
          "name": "stdout",
          "text": [
            "\n",
            "      Epoch    GPU_mem   box_loss   cls_loss   dfl_loss  Instances       Size\n"
          ]
        }
      ]
    },
    {
      "cell_type": "markdown",
      "source": [],
      "metadata": {
        "id": "qxtstgQmK-Ss"
      }
    },
    {
      "cell_type": "code",
      "source": [
        "import torch\n",
        "device = torch.device('cuda' if torch.cuda.is_available() else 'cpu')\n",
        "print(f\"Using device: {device}\")\n",
        "if device.type == 'cuda':\n",
        "       print(f\"GPU index: {torch.cuda.current_device()}\")\n",
        "\n",
        "if torch.cuda.is_available():\n",
        "        num_gpus = torch.cuda.device_count()\n",
        "        print(f\"Number of GPUs available: {num_gpus}\")\n",
        "        for i in range(num_gpus):\n",
        "            print(f\"GPU {i}: {torch.cuda.get_device_name(i)}\")\n"
      ],
      "metadata": {
        "colab": {
          "base_uri": "https://localhost:8080/"
        },
        "id": "FlqHkSkoVvL-",
        "outputId": "b12a286a-3d9d-4f4d-fe42-c6a63d903207"
      },
      "execution_count": null,
      "outputs": [
        {
          "output_type": "stream",
          "name": "stdout",
          "text": [
            "Using device: cuda\n",
            "GPU index: 0\n",
            "Number of GPUs available: 1\n",
            "GPU 0: Tesla T4\n"
          ]
        }
      ]
    }
  ],
  "metadata": {
    "accelerator": "GPU",
    "colab": {
      "name": "Ultralytics HUB",
      "provenance": [],
      "machine_shape": "hm",
      "gpuType": "T4"
    },
    "kernelspec": {
      "display_name": "Python 3",
      "name": "python3"
    },
    "language_info": {
      "name": "python"
    }
  },
  "nbformat": 4,
  "nbformat_minor": 0
}