{
  "cells": [
    {
      "cell_type": "markdown",
      "metadata": {
        "id": "FIzICjaph_Wy"
      },
      "source": [
        "<a align=\"center\" href=\"https://ultralytics.com/hub\" target=\"_blank\">\n",
        "<img width=\"1024\", src=\"https://github.com/ultralytics/assets/raw/main/im/ultralytics-hub.png\"></a>\n",
        "\n",
        "<div align=\"center\">\n",
        "\n",
        "[中文](https://docs.ultralytics.com/zh/hub/) | [한국어](https://docs.ultralytics.com/ko/hub/) | [日本語](https://docs.ultralytics.com/ja/hub/) | [Русский](https://docs.ultralytics.com/ru/hub/) | [Deutsch](https://docs.ultralytics.com/de/hub/) | [Français](https://docs.ultralytics.com/fr/hub/) | [Español](https://docs.ultralytics.com/es/hub/) | [Português](https://docs.ultralytics.com/pt/hub/) | [Türkçe](https://docs.ultralytics.com/tr/hub/) | [Tiếng Việt](https://docs.ultralytics.com/vi/hub/) | [العربية](https://docs.ultralytics.com/ar/hub/)\n",
        "\n",
        "  <a href=\"https://github.com/ultralytics/hub/actions/workflows/ci.yaml\"><img src=\"https://github.com/ultralytics/hub/actions/workflows/ci.yaml/badge.svg\" alt=\"CI CPU\"></a>\n",
        "  <a href=\"https://colab.research.google.com/github/ultralytics/hub/blob/main/hub.ipynb\"><img src=\"https://colab.research.google.com/assets/colab-badge.svg\" alt=\"Open In Colab\"></a>\n",
        "\n",
        "  <a href=\"https://ultralytics.com/discord\"><img alt=\"Discord\" src=\"https://img.shields.io/discord/1089800235347353640?logo=discord&logoColor=white&label=Discord&color=blue\"></a>\n",
        "  <a href=\"https://community.ultralytics.com\"><img alt=\"Ultralytics Forums\" src=\"https://img.shields.io/discourse/users?server=https%3A%2F%2Fcommunity.ultralytics.com&logo=discourse&label=Forums&color=blue\"></a>\n",
        "  <a href=\"https://reddit.com/r/ultralytics\"><img alt=\"Ultralytics Reddit\" src=\"https://img.shields.io/reddit/subreddit-subscribers/ultralytics?style=flat&logo=reddit&logoColor=white&label=Reddit&color=blue\"></a>\n",
        "\n",
        "Welcome to the [Ultralytics](https://ultralytics.com/) HUB notebook!\n",
        "\n",
        "This notebook allows you to train Ultralytics [YOLO](https://github.com/ultralytics/ultralytics) 🚀 models using [HUB](https://hub.ultralytics.com/). Please browse the HUB <a href=\"https://docs.ultralytics.com/hub/\">Docs</a> for details, raise an issue on <a href=\"https://github.com/ultralytics/hub/issues/new/choose\">GitHub</a> for support, and join our <a href=\"https://ultralytics.com/discord\">Discord</a> community for questions and discussions!\n",
        "</div>"
      ]
    },
    {
      "cell_type": "markdown",
      "metadata": {
        "id": "eRQ2ow94MiOv"
      },
      "source": [
        "# Setup\n",
        "\n",
        "Pip install `ultralytics` and [dependencies](https://github.com/ultralytics/ultralytics/blob/main/pyproject.toml) and check software and hardware.\n",
        "\n",
        "[![PyPI - Version](https://img.shields.io/pypi/v/ultralytics?logo=pypi&logoColor=white)](https://pypi.org/project/ultralytics/) [![Downloads](https://static.pepy.tech/badge/ultralytics)](https://www.pepy.tech/projects/ultralytics) [![PyPI - Python Version](https://img.shields.io/pypi/pyversions/ultralytics?logo=python&logoColor=gold)](https://pypi.org/project/ultralytics/)"
      ]
    },
    {
      "cell_type": "code",
      "execution_count": 7,
      "metadata": {
        "colab": {
          "base_uri": "https://localhost:8080/"
        },
        "id": "FyDnXd-n4c7Y",
        "outputId": "46d3d8fb-5f3f-4b64-9227-25b38d6b727a"
      },
      "outputs": [
        {
          "output_type": "stream",
          "name": "stdout",
          "text": [
            "Ultralytics 8.3.29 🚀 Python-3.10.12 torch-2.5.0+cu121 CUDA:0 (Tesla T4, 15102MiB)\n",
            "Setup complete ✅ (8 CPUs, 51.0 GB RAM, 32.4/235.7 GB disk)\n",
            "Downloading https://github.com/zh79325/jxh-ai-server/archive/refs/heads/main.zip to '/content/codes/main.zip'...\n",
            "⚠️ Download failure, retrying 1/3 https://github.com/zh79325/jxh-ai-server/archive/refs/heads/main.zip...\n"
          ]
        },
        {
          "output_type": "stream",
          "name": "stderr",
          "text": [
            "Unzipping /content/codes/main.zip to /content/codes/jxh-ai-server-main...: 100%|██████████| 48/48 [00:01<00:00, 44.37file/s]\n"
          ]
        }
      ],
      "source": [
        "%pip install ultralytics  # install\n",
        "from ultralytics import YOLO, checks, hub\n",
        "from ultralytics.utils.files import WorkingDirectory\n",
        "from ultralytics.utils.downloads import download\n",
        "import shutil\n",
        "from pathlib import Path\n",
        "import os\n",
        "import numpy as np\n",
        "import pandas as pd\n",
        "from tqdm import tqdm\n",
        "checks()  # checks\n",
        "\n",
        "current = os.path.dirname(os.path.abspath('__file__'))\n",
        "parent = Path(current+'/codes')\n",
        "if  parent.exists():\n",
        "  shutil.rmtree(parent)\n",
        "os.makedirs(parent)\n",
        "download('https://github.com/zh79325/jxh-ai-server/archive/refs/heads/main.zip',dir=parent)\n",
        "\n"
      ]
    },
    {
      "cell_type": "markdown",
      "source": [
        "# Download Dataset\n"
      ],
      "metadata": {
        "id": "Rp-mvpaVwkGy"
      }
    },
    {
      "cell_type": "code",
      "source": [
        "import os\n",
        "import numpy as np\n",
        "import pandas as pd\n",
        "from tqdm import tqdm\n",
        "import pandas as pd\n",
        "from glob import glob\n",
        "import shutil\n",
        "import yaml\n",
        "import json\n",
        "import urllib\n",
        "from ultralytics.utils.downloads import download\n",
        "checks()  # checks\n",
        "dataset_url='https://aiimg.obs.cn-east-3.myhuaweicloud.com/train/dataset/project-4-at-2024-11-13-00-59-ce04fdff.zip'\n",
        "current = os.path.dirname(os.path.abspath('__file__'))\n",
        "root = current+'/codes/jxh-ai-server-main/jxh-ai-models'\n",
        "datasset_folder=Path(root+'/ls-export')\n",
        "folder=root+'/dataset-download'\n",
        "datasset_download_folder =Path(folder)\n",
        "if  datasset_download_folder.exists():\n",
        "  shutil.rmtree(datasset_download_folder)\n",
        "os.makedirs(datasset_download_folder)\n",
        "download(dataset_url,datasset_download_folder)\n",
        "subfolders= [f.path for f in os.scandir(folder) if f.is_dir()]\n",
        "folder=subfolders[0]\n",
        "datasets = root+'/yolo_datasets'\n",
        "model_yaml = os.path.abspath(f'{datasets}/data.yaml')\n",
        "print('\\n\\n\\n==========\\n\\n')\n",
        "print('datasset_download_folder=>',folder,end='\\n')\n",
        "txts = glob(folder + '/**/*.txt')\n",
        "images = glob(folder + '/**/*.jpg')\n",
        "\n",
        "# Create DataFrame\n",
        "df = pd.DataFrame({'txt': txts, 'image': images})\n",
        "\n",
        "if os.path.exists(datasets):\n",
        "    shutil.rmtree(datasets)\n",
        "# Shuffle and split data\n",
        "df = df.sample(frac=1, random_state=42).reset_index(drop=True)\n",
        "all_train = len(df) < 20\n",
        "train_size = int(0.8 * len(df))\n",
        "if all_train:\n",
        "    train_size = len(df)\n",
        "train_df = df.iloc[:train_size]\n",
        "test_df = []\n",
        "val_df = []\n",
        "if all_train:\n",
        "    test_df = train_df\n",
        "    val_df = train_df\n",
        "else:\n",
        "    test_df = df.iloc[train_size:]\n",
        "    val_df = test_df.sample(frac=0.5)\n",
        "    test_df = test_df.drop(val_df.index)\n",
        "\n",
        "print('building data set')\n",
        "# Create directories\n",
        "for split in ['train', 'test', 'val']:\n",
        "    os.makedirs(f'{datasets}/{split}/images', exist_ok=True)\n",
        "    os.makedirs(f'{datasets}/{split}/labels', exist_ok=True)\n",
        "\n",
        "# Copy files to respective directories\n",
        "for split, split_df in [('train', train_df), ('test', test_df), ('val', val_df)]:\n",
        "    for _, row in split_df.iterrows():\n",
        "        shutil.copy(row['image'], f'{datasets}/{split}/images')\n",
        "        shutil.copy(row['txt'], f'{datasets}/{split}/labels')\n",
        "\n",
        "with open(f'{folder}/notes.json', 'r') as file:\n",
        "    notes = json.load(file)\n",
        "\n",
        "labelList = []\n",
        "for label in notes['categories']:\n",
        "    name = urllib.parse.unquote(label['name'])\n",
        "    labelList.append(name)\n",
        "\n",
        "print(\"parse yaml success labels =>\", labelList)\n",
        "\n",
        "data = dict(\n",
        "    train='train/images',\n",
        "    val='val/images',\n",
        "    test='test/images',\n",
        "    nc=len(labelList),\n",
        "    names=labelList\n",
        ")\n",
        "with open(model_yaml, 'w') as outfile:\n",
        "    yaml.dump(data, outfile, default_flow_style=False)\n",
        "\n",
        "print('finish model_yaml in=>', model_yaml)\n"
      ],
      "metadata": {
        "colab": {
          "base_uri": "https://localhost:8080/"
        },
        "id": "PE5AKmeGwugj",
        "outputId": "13890028-fced-4b9d-bda6-80e2ffed6b47"
      },
      "execution_count": 17,
      "outputs": [
        {
          "output_type": "stream",
          "name": "stdout",
          "text": [
            "Ultralytics 8.3.29 🚀 Python-3.10.12 torch-2.5.0+cu121 CUDA:0 (Tesla T4, 15102MiB)\n",
            "Setup complete ✅ (8 CPUs, 51.0 GB RAM, 32.7/235.7 GB disk)\n",
            "Downloading https://aiimg.obs.cn-east-3.myhuaweicloud.com/train/dataset/project-4-at-2024-11-13-00-59-ce04fdff.zip to '/content/codes/jxh-ai-server-main/jxh-ai-models/dataset-download/project-4-at-2024-11-13-00-59-ce04fdff.zip'...\n"
          ]
        },
        {
          "output_type": "stream",
          "name": "stderr",
          "text": [
            "100%|██████████| 2.59M/2.59M [00:00<00:00, 9.35MB/s]\n",
            "Unzipping /content/codes/jxh-ai-server-main/jxh-ai-models/dataset-download/project-4-at-2024-11-13-00-59-ce04fdff.zip to /content/codes/jxh-ai-server-main/jxh-ai-models/dataset-download/project-4-at-2024-11-13-00-59-ce04fdff...: 100%|██████████| 10/10 [00:00<00:00, 958.83file/s]\n"
          ]
        },
        {
          "output_type": "stream",
          "name": "stdout",
          "text": [
            "\n",
            "\n",
            "\n",
            "==========\n",
            "\n",
            "\n",
            "datasset_download_folder=> /content/codes/jxh-ai-server-main/jxh-ai-models/dataset-download/project-4-at-2024-11-13-00-59-ce04fdff\n",
            "building data set\n",
            "parse yaml success labels => ['五粮液', '剑南春', '劲酒', '底左1酒', '底左2酒', '底左3酒', '底左4酒', '底左5酒', '底左6酒', '底左7酒', '底左8酒', '红枸杞酒', '茅台王子', '西风十五年', '郎酒']\n",
            "finish model_yaml in=> /content/codes/jxh-ai-server-main/jxh-ai-models/yolo_datasets/data.yaml\n"
          ]
        }
      ]
    },
    {
      "cell_type": "markdown",
      "source": [
        "# Train"
      ],
      "metadata": {
        "id": "b-KH33khNINk"
      }
    },
    {
      "cell_type": "code",
      "source": [
        "from ultralytics import YOLO\n",
        "print('load model_yaml from =>',model_yaml)\n",
        "model = YOLO(root+'/models/input/yolo11s.pt')  # build a new model from YAML\n",
        "results = model.train(data=model_yaml, epochs=100, imgsz=1440)"
      ],
      "metadata": {
        "colab": {
          "base_uri": "https://localhost:8080/"
        },
        "id": "xPprLgNKNPaY",
        "outputId": "ee7c793f-3ea8-41e3-9862-fb558021234d"
      },
      "execution_count": null,
      "outputs": [
        {
          "output_type": "stream",
          "name": "stdout",
          "text": [
            "load model_yaml from => /content/codes/jxh-ai-server-main/jxh-ai-models/yolo_datasets/data.yaml\n",
            "Ultralytics 8.3.29 🚀 Python-3.10.12 torch-2.5.0+cu121 CUDA:0 (Tesla T4, 15102MiB)\n",
            "\u001b[34m\u001b[1mengine/trainer: \u001b[0mtask=detect, mode=train, model=/content/codes/jxh-ai-server-main/jxh-ai-models/models/input/yolo11s.pt, data=/content/codes/jxh-ai-server-main/jxh-ai-models/yolo_datasets/data.yaml, epochs=100, time=None, patience=100, batch=16, imgsz=1440, save=True, save_period=-1, cache=False, device=None, workers=8, project=None, name=train, exist_ok=False, pretrained=True, optimizer=auto, verbose=True, seed=0, deterministic=True, single_cls=False, rect=False, cos_lr=False, close_mosaic=10, resume=False, amp=True, fraction=1.0, profile=False, freeze=None, multi_scale=False, overlap_mask=True, mask_ratio=4, dropout=0.0, val=True, split=val, save_json=False, save_hybrid=False, conf=None, iou=0.7, max_det=300, half=False, dnn=False, plots=True, source=None, vid_stride=1, stream_buffer=False, visualize=False, augment=False, agnostic_nms=False, classes=None, retina_masks=False, embed=None, show=False, save_frames=False, save_txt=False, save_conf=False, save_crop=False, show_labels=True, show_conf=True, show_boxes=True, line_width=None, format=torchscript, keras=False, optimize=False, int8=False, dynamic=False, simplify=True, opset=None, workspace=4, nms=False, lr0=0.01, lrf=0.01, momentum=0.937, weight_decay=0.0005, warmup_epochs=3.0, warmup_momentum=0.8, warmup_bias_lr=0.1, box=7.5, cls=0.5, dfl=1.5, pose=12.0, kobj=1.0, label_smoothing=0.0, nbs=64, hsv_h=0.015, hsv_s=0.7, hsv_v=0.4, degrees=0.0, translate=0.1, scale=0.5, shear=0.0, perspective=0.0, flipud=0.0, fliplr=0.5, bgr=0.0, mosaic=1.0, mixup=0.0, copy_paste=0.0, copy_paste_mode=flip, auto_augment=randaugment, erasing=0.4, crop_fraction=1.0, cfg=None, tracker=botsort.yaml, save_dir=runs/detect/train\n",
            "Downloading https://ultralytics.com/assets/Arial.Unicode.ttf to '/root/.config/Ultralytics/Arial.Unicode.ttf'...\n"
          ]
        },
        {
          "output_type": "stream",
          "name": "stderr",
          "text": [
            "100%|██████████| 22.2M/22.2M [00:00<00:00, 35.3MB/s]\n"
          ]
        },
        {
          "output_type": "stream",
          "name": "stdout",
          "text": [
            "Overriding model.yaml nc=80 with nc=15\n",
            "\n",
            "                   from  n    params  module                                       arguments                     \n",
            "  0                  -1  1       928  ultralytics.nn.modules.conv.Conv             [3, 32, 3, 2]                 \n",
            "  1                  -1  1     18560  ultralytics.nn.modules.conv.Conv             [32, 64, 3, 2]                \n",
            "  2                  -1  1     26080  ultralytics.nn.modules.block.C3k2            [64, 128, 1, False, 0.25]     \n",
            "  3                  -1  1    147712  ultralytics.nn.modules.conv.Conv             [128, 128, 3, 2]              \n",
            "  4                  -1  1    103360  ultralytics.nn.modules.block.C3k2            [128, 256, 1, False, 0.25]    \n",
            "  5                  -1  1    590336  ultralytics.nn.modules.conv.Conv             [256, 256, 3, 2]              \n",
            "  6                  -1  1    346112  ultralytics.nn.modules.block.C3k2            [256, 256, 1, True]           \n",
            "  7                  -1  1   1180672  ultralytics.nn.modules.conv.Conv             [256, 512, 3, 2]              \n",
            "  8                  -1  1   1380352  ultralytics.nn.modules.block.C3k2            [512, 512, 1, True]           \n",
            "  9                  -1  1    656896  ultralytics.nn.modules.block.SPPF            [512, 512, 5]                 \n",
            " 10                  -1  1    990976  ultralytics.nn.modules.block.C2PSA           [512, 512, 1]                 \n",
            " 11                  -1  1         0  torch.nn.modules.upsampling.Upsample         [None, 2, 'nearest']          \n",
            " 12             [-1, 6]  1         0  ultralytics.nn.modules.conv.Concat           [1]                           \n",
            " 13                  -1  1    443776  ultralytics.nn.modules.block.C3k2            [768, 256, 1, False]          \n",
            " 14                  -1  1         0  torch.nn.modules.upsampling.Upsample         [None, 2, 'nearest']          \n",
            " 15             [-1, 4]  1         0  ultralytics.nn.modules.conv.Concat           [1]                           \n",
            " 16                  -1  1    127680  ultralytics.nn.modules.block.C3k2            [512, 128, 1, False]          \n",
            " 17                  -1  1    147712  ultralytics.nn.modules.conv.Conv             [128, 128, 3, 2]              \n",
            " 18            [-1, 13]  1         0  ultralytics.nn.modules.conv.Concat           [1]                           \n",
            " 19                  -1  1    345472  ultralytics.nn.modules.block.C3k2            [384, 256, 1, False]          \n",
            " 20                  -1  1    590336  ultralytics.nn.modules.conv.Conv             [256, 256, 3, 2]              \n",
            " 21            [-1, 10]  1         0  ultralytics.nn.modules.conv.Concat           [1]                           \n",
            " 22                  -1  1   1511424  ultralytics.nn.modules.block.C3k2            [768, 512, 1, True]           \n",
            " 23        [16, 19, 22]  1    825213  ultralytics.nn.modules.head.Detect           [15, [128, 256, 512]]         \n",
            "YOLO11s summary: 319 layers, 9,433,597 parameters, 9,433,581 gradients, 21.6 GFLOPs\n",
            "\n",
            "Transferred 493/499 items from pretrained weights\n",
            "\u001b[34m\u001b[1mTensorBoard: \u001b[0mStart with 'tensorboard --logdir runs/detect/train', view at http://localhost:6006/\n",
            "Freezing layer 'model.23.dfl.conv.weight'\n",
            "\u001b[34m\u001b[1mAMP: \u001b[0mrunning Automatic Mixed Precision (AMP) checks...\n",
            "Downloading https://github.com/ultralytics/assets/releases/download/v8.3.0/yolo11n.pt to 'yolo11n.pt'...\n"
          ]
        },
        {
          "output_type": "stream",
          "name": "stderr",
          "text": [
            "100%|██████████| 5.35M/5.35M [00:00<00:00, 16.3MB/s]\n"
          ]
        },
        {
          "output_type": "stream",
          "name": "stdout",
          "text": [
            "\u001b[34m\u001b[1mAMP: \u001b[0mchecks passed ✅\n"
          ]
        },
        {
          "output_type": "stream",
          "name": "stderr",
          "text": [
            "\u001b[34m\u001b[1mtrain: \u001b[0mScanning /content/codes/jxh-ai-server-main/jxh-ai-models/yolo_datasets/train/labels... 3 images, 0 backgrounds, 0 corrupt: 100%|██████████| 3/3 [00:00<00:00, 670.66it/s]"
          ]
        },
        {
          "output_type": "stream",
          "name": "stdout",
          "text": [
            "\u001b[34m\u001b[1mtrain: \u001b[0mNew cache created: /content/codes/jxh-ai-server-main/jxh-ai-models/yolo_datasets/train/labels.cache\n"
          ]
        },
        {
          "output_type": "stream",
          "name": "stderr",
          "text": [
            "\n"
          ]
        },
        {
          "output_type": "stream",
          "name": "stdout",
          "text": [
            "\u001b[34m\u001b[1malbumentations: \u001b[0mBlur(p=0.01, blur_limit=(3, 7)), MedianBlur(p=0.01, blur_limit=(3, 7)), ToGray(p=0.01, num_output_channels=3, method='weighted_average'), CLAHE(p=0.01, clip_limit=(1.0, 4.0), tile_grid_size=(8, 8))\n"
          ]
        },
        {
          "output_type": "stream",
          "name": "stderr",
          "text": [
            "/usr/local/lib/python3.10/dist-packages/albumentations/__init__.py:24: UserWarning: A new version of Albumentations is available: 1.4.21 (you have 1.4.20). Upgrade using: pip install -U albumentations. To disable automatic update checks, set the environment variable NO_ALBUMENTATIONS_UPDATE to 1.\n",
            "  check_for_updates()\n",
            "\u001b[34m\u001b[1mval: \u001b[0mScanning /content/codes/jxh-ai-server-main/jxh-ai-models/yolo_datasets/val/labels... 3 images, 0 backgrounds, 0 corrupt: 100%|██████████| 3/3 [00:00<00:00, 112.87it/s]"
          ]
        },
        {
          "output_type": "stream",
          "name": "stdout",
          "text": [
            "\u001b[34m\u001b[1mval: \u001b[0mNew cache created: /content/codes/jxh-ai-server-main/jxh-ai-models/yolo_datasets/val/labels.cache\n"
          ]
        },
        {
          "output_type": "stream",
          "name": "stderr",
          "text": [
            "\n"
          ]
        },
        {
          "output_type": "stream",
          "name": "stdout",
          "text": [
            "Plotting labels to runs/detect/train/labels.jpg... \n"
          ]
        },
        {
          "output_type": "stream",
          "name": "stderr",
          "text": [
            "/usr/local/lib/python3.10/dist-packages/ultralytics/utils/plotting.py:909: UserWarning: Glyph 20116 (\\N{CJK UNIFIED IDEOGRAPH-4E94}) missing from current font.\n",
            "  plt.savefig(fname, dpi=200)\n",
            "/usr/local/lib/python3.10/dist-packages/ultralytics/utils/plotting.py:909: UserWarning: Glyph 31918 (\\N{CJK UNIFIED IDEOGRAPH-7CAE}) missing from current font.\n",
            "  plt.savefig(fname, dpi=200)\n",
            "/usr/local/lib/python3.10/dist-packages/ultralytics/utils/plotting.py:909: UserWarning: Glyph 28082 (\\N{CJK UNIFIED IDEOGRAPH-6DB2}) missing from current font.\n",
            "  plt.savefig(fname, dpi=200)\n",
            "/usr/local/lib/python3.10/dist-packages/ultralytics/utils/plotting.py:909: UserWarning: Glyph 21073 (\\N{CJK UNIFIED IDEOGRAPH-5251}) missing from current font.\n",
            "  plt.savefig(fname, dpi=200)\n",
            "/usr/local/lib/python3.10/dist-packages/ultralytics/utils/plotting.py:909: UserWarning: Glyph 21335 (\\N{CJK UNIFIED IDEOGRAPH-5357}) missing from current font.\n",
            "  plt.savefig(fname, dpi=200)\n",
            "/usr/local/lib/python3.10/dist-packages/ultralytics/utils/plotting.py:909: UserWarning: Glyph 26149 (\\N{CJK UNIFIED IDEOGRAPH-6625}) missing from current font.\n",
            "  plt.savefig(fname, dpi=200)\n",
            "/usr/local/lib/python3.10/dist-packages/ultralytics/utils/plotting.py:909: UserWarning: Glyph 21170 (\\N{CJK UNIFIED IDEOGRAPH-52B2}) missing from current font.\n",
            "  plt.savefig(fname, dpi=200)\n",
            "/usr/local/lib/python3.10/dist-packages/ultralytics/utils/plotting.py:909: UserWarning: Glyph 37202 (\\N{CJK UNIFIED IDEOGRAPH-9152}) missing from current font.\n",
            "  plt.savefig(fname, dpi=200)\n",
            "/usr/local/lib/python3.10/dist-packages/ultralytics/utils/plotting.py:909: UserWarning: Glyph 24213 (\\N{CJK UNIFIED IDEOGRAPH-5E95}) missing from current font.\n",
            "  plt.savefig(fname, dpi=200)\n",
            "/usr/local/lib/python3.10/dist-packages/ultralytics/utils/plotting.py:909: UserWarning: Glyph 24038 (\\N{CJK UNIFIED IDEOGRAPH-5DE6}) missing from current font.\n",
            "  plt.savefig(fname, dpi=200)\n",
            "/usr/local/lib/python3.10/dist-packages/ultralytics/utils/plotting.py:909: UserWarning: Glyph 32418 (\\N{CJK UNIFIED IDEOGRAPH-7EA2}) missing from current font.\n",
            "  plt.savefig(fname, dpi=200)\n",
            "/usr/local/lib/python3.10/dist-packages/ultralytics/utils/plotting.py:909: UserWarning: Glyph 26552 (\\N{CJK UNIFIED IDEOGRAPH-67B8}) missing from current font.\n",
            "  plt.savefig(fname, dpi=200)\n",
            "/usr/local/lib/python3.10/dist-packages/ultralytics/utils/plotting.py:909: UserWarning: Glyph 26462 (\\N{CJK UNIFIED IDEOGRAPH-675E}) missing from current font.\n",
            "  plt.savefig(fname, dpi=200)\n",
            "/usr/local/lib/python3.10/dist-packages/ultralytics/utils/plotting.py:909: UserWarning: Glyph 33541 (\\N{CJK UNIFIED IDEOGRAPH-8305}) missing from current font.\n",
            "  plt.savefig(fname, dpi=200)\n",
            "/usr/local/lib/python3.10/dist-packages/ultralytics/utils/plotting.py:909: UserWarning: Glyph 21488 (\\N{CJK UNIFIED IDEOGRAPH-53F0}) missing from current font.\n",
            "  plt.savefig(fname, dpi=200)\n",
            "/usr/local/lib/python3.10/dist-packages/ultralytics/utils/plotting.py:909: UserWarning: Glyph 29579 (\\N{CJK UNIFIED IDEOGRAPH-738B}) missing from current font.\n",
            "  plt.savefig(fname, dpi=200)\n",
            "/usr/local/lib/python3.10/dist-packages/ultralytics/utils/plotting.py:909: UserWarning: Glyph 23376 (\\N{CJK UNIFIED IDEOGRAPH-5B50}) missing from current font.\n",
            "  plt.savefig(fname, dpi=200)\n",
            "/usr/local/lib/python3.10/dist-packages/ultralytics/utils/plotting.py:909: UserWarning: Glyph 35199 (\\N{CJK UNIFIED IDEOGRAPH-897F}) missing from current font.\n",
            "  plt.savefig(fname, dpi=200)\n",
            "/usr/local/lib/python3.10/dist-packages/ultralytics/utils/plotting.py:909: UserWarning: Glyph 39118 (\\N{CJK UNIFIED IDEOGRAPH-98CE}) missing from current font.\n",
            "  plt.savefig(fname, dpi=200)\n",
            "/usr/local/lib/python3.10/dist-packages/ultralytics/utils/plotting.py:909: UserWarning: Glyph 21313 (\\N{CJK UNIFIED IDEOGRAPH-5341}) missing from current font.\n",
            "  plt.savefig(fname, dpi=200)\n",
            "/usr/local/lib/python3.10/dist-packages/ultralytics/utils/plotting.py:909: UserWarning: Glyph 24180 (\\N{CJK UNIFIED IDEOGRAPH-5E74}) missing from current font.\n",
            "  plt.savefig(fname, dpi=200)\n",
            "/usr/local/lib/python3.10/dist-packages/ultralytics/utils/plotting.py:909: UserWarning: Glyph 37070 (\\N{CJK UNIFIED IDEOGRAPH-90CE}) missing from current font.\n",
            "  plt.savefig(fname, dpi=200)\n",
            "/usr/local/lib/python3.10/dist-packages/ultralytics/utils/plotting.py:909: UserWarning: Glyph 20116 (\\N{CJK UNIFIED IDEOGRAPH-4E94}) missing from current font.\n",
            "  plt.savefig(fname, dpi=200)\n",
            "/usr/local/lib/python3.10/dist-packages/ultralytics/utils/plotting.py:909: UserWarning: Glyph 31918 (\\N{CJK UNIFIED IDEOGRAPH-7CAE}) missing from current font.\n",
            "  plt.savefig(fname, dpi=200)\n",
            "/usr/local/lib/python3.10/dist-packages/ultralytics/utils/plotting.py:909: UserWarning: Glyph 28082 (\\N{CJK UNIFIED IDEOGRAPH-6DB2}) missing from current font.\n",
            "  plt.savefig(fname, dpi=200)\n",
            "/usr/local/lib/python3.10/dist-packages/ultralytics/utils/plotting.py:909: UserWarning: Glyph 21073 (\\N{CJK UNIFIED IDEOGRAPH-5251}) missing from current font.\n",
            "  plt.savefig(fname, dpi=200)\n",
            "/usr/local/lib/python3.10/dist-packages/ultralytics/utils/plotting.py:909: UserWarning: Glyph 21335 (\\N{CJK UNIFIED IDEOGRAPH-5357}) missing from current font.\n",
            "  plt.savefig(fname, dpi=200)\n",
            "/usr/local/lib/python3.10/dist-packages/ultralytics/utils/plotting.py:909: UserWarning: Glyph 26149 (\\N{CJK UNIFIED IDEOGRAPH-6625}) missing from current font.\n",
            "  plt.savefig(fname, dpi=200)\n",
            "/usr/local/lib/python3.10/dist-packages/ultralytics/utils/plotting.py:909: UserWarning: Glyph 21170 (\\N{CJK UNIFIED IDEOGRAPH-52B2}) missing from current font.\n",
            "  plt.savefig(fname, dpi=200)\n",
            "/usr/local/lib/python3.10/dist-packages/ultralytics/utils/plotting.py:909: UserWarning: Glyph 37202 (\\N{CJK UNIFIED IDEOGRAPH-9152}) missing from current font.\n",
            "  plt.savefig(fname, dpi=200)\n",
            "/usr/local/lib/python3.10/dist-packages/ultralytics/utils/plotting.py:909: UserWarning: Glyph 24213 (\\N{CJK UNIFIED IDEOGRAPH-5E95}) missing from current font.\n",
            "  plt.savefig(fname, dpi=200)\n",
            "/usr/local/lib/python3.10/dist-packages/ultralytics/utils/plotting.py:909: UserWarning: Glyph 24038 (\\N{CJK UNIFIED IDEOGRAPH-5DE6}) missing from current font.\n",
            "  plt.savefig(fname, dpi=200)\n",
            "/usr/local/lib/python3.10/dist-packages/ultralytics/utils/plotting.py:909: UserWarning: Glyph 32418 (\\N{CJK UNIFIED IDEOGRAPH-7EA2}) missing from current font.\n",
            "  plt.savefig(fname, dpi=200)\n",
            "/usr/local/lib/python3.10/dist-packages/ultralytics/utils/plotting.py:909: UserWarning: Glyph 26552 (\\N{CJK UNIFIED IDEOGRAPH-67B8}) missing from current font.\n",
            "  plt.savefig(fname, dpi=200)\n",
            "/usr/local/lib/python3.10/dist-packages/ultralytics/utils/plotting.py:909: UserWarning: Glyph 26462 (\\N{CJK UNIFIED IDEOGRAPH-675E}) missing from current font.\n",
            "  plt.savefig(fname, dpi=200)\n",
            "/usr/local/lib/python3.10/dist-packages/ultralytics/utils/plotting.py:909: UserWarning: Glyph 33541 (\\N{CJK UNIFIED IDEOGRAPH-8305}) missing from current font.\n",
            "  plt.savefig(fname, dpi=200)\n",
            "/usr/local/lib/python3.10/dist-packages/ultralytics/utils/plotting.py:909: UserWarning: Glyph 21488 (\\N{CJK UNIFIED IDEOGRAPH-53F0}) missing from current font.\n",
            "  plt.savefig(fname, dpi=200)\n",
            "/usr/local/lib/python3.10/dist-packages/ultralytics/utils/plotting.py:909: UserWarning: Glyph 29579 (\\N{CJK UNIFIED IDEOGRAPH-738B}) missing from current font.\n",
            "  plt.savefig(fname, dpi=200)\n",
            "/usr/local/lib/python3.10/dist-packages/ultralytics/utils/plotting.py:909: UserWarning: Glyph 23376 (\\N{CJK UNIFIED IDEOGRAPH-5B50}) missing from current font.\n",
            "  plt.savefig(fname, dpi=200)\n",
            "/usr/local/lib/python3.10/dist-packages/ultralytics/utils/plotting.py:909: UserWarning: Glyph 35199 (\\N{CJK UNIFIED IDEOGRAPH-897F}) missing from current font.\n",
            "  plt.savefig(fname, dpi=200)\n",
            "/usr/local/lib/python3.10/dist-packages/ultralytics/utils/plotting.py:909: UserWarning: Glyph 39118 (\\N{CJK UNIFIED IDEOGRAPH-98CE}) missing from current font.\n",
            "  plt.savefig(fname, dpi=200)\n",
            "/usr/local/lib/python3.10/dist-packages/ultralytics/utils/plotting.py:909: UserWarning: Glyph 21313 (\\N{CJK UNIFIED IDEOGRAPH-5341}) missing from current font.\n",
            "  plt.savefig(fname, dpi=200)\n",
            "/usr/local/lib/python3.10/dist-packages/ultralytics/utils/plotting.py:909: UserWarning: Glyph 24180 (\\N{CJK UNIFIED IDEOGRAPH-5E74}) missing from current font.\n",
            "  plt.savefig(fname, dpi=200)\n",
            "/usr/local/lib/python3.10/dist-packages/ultralytics/utils/plotting.py:909: UserWarning: Glyph 37070 (\\N{CJK UNIFIED IDEOGRAPH-90CE}) missing from current font.\n",
            "  plt.savefig(fname, dpi=200)\n"
          ]
        },
        {
          "output_type": "stream",
          "name": "stdout",
          "text": [
            "\u001b[34m\u001b[1moptimizer:\u001b[0m 'optimizer=auto' found, ignoring 'lr0=0.01' and 'momentum=0.937' and determining best 'optimizer', 'lr0' and 'momentum' automatically... \n",
            "\u001b[34m\u001b[1moptimizer:\u001b[0m AdamW(lr=0.000526, momentum=0.9) with parameter groups 81 weight(decay=0.0), 88 weight(decay=0.0005), 87 bias(decay=0.0)\n",
            "\u001b[34m\u001b[1mTensorBoard: \u001b[0mmodel graph visualization added ✅\n",
            "Image sizes 1440 train, 1440 val\n",
            "Using 8 dataloader workers\n",
            "Logging results to \u001b[1mruns/detect/train\u001b[0m\n",
            "Starting training for 100 epochs...\n",
            "\n",
            "      Epoch    GPU_mem   box_loss   cls_loss   dfl_loss  Instances       Size\n"
          ]
        },
        {
          "output_type": "stream",
          "name": "stderr",
          "text": [
            "      1/100      5.36G      3.174      5.032      1.927        712       1440: 100%|██████████| 1/1 [00:01<00:00,  1.62s/it]\n",
            "                 Class     Images  Instances      Box(P          R      mAP50  mAP50-95):   0%|          | 0/1 [00:00<?, ?it/s]"
          ]
        },
        {
          "output_type": "stream",
          "name": "stdout",
          "text": [
            "Downloading https://ultralytics.com/assets/Arial.ttf to '/root/.config/Ultralytics/Arial.ttf'...\n"
          ]
        },
        {
          "output_type": "stream",
          "name": "stderr",
          "text": [
            "                 Class     Images  Instances      Box(P          R      mAP50  mAP50-95): 100%|██████████| 1/1 [00:01<00:00,  1.70s/it]"
          ]
        },
        {
          "output_type": "stream",
          "name": "stdout",
          "text": [
            "                   all          3        262   0.000702    0.00476   0.000377   9.45e-05\n"
          ]
        },
        {
          "output_type": "stream",
          "name": "stderr",
          "text": [
            "\n"
          ]
        },
        {
          "output_type": "stream",
          "name": "stdout",
          "text": [
            "\n",
            "      Epoch    GPU_mem   box_loss   cls_loss   dfl_loss  Instances       Size\n"
          ]
        },
        {
          "output_type": "stream",
          "name": "stderr",
          "text": [
            "  0%|          | 0/1 [00:00<?, ?it/s]\n",
            "      2/100      5.06G      3.192      5.249      1.981        366       1440: 100%|██████████| 1/1 [00:00<00:00,  2.53it/s]\n",
            "                 Class     Images  Instances      Box(P          R      mAP50  mAP50-95):   0%|          | 0/1 [00:00<?, ?it/s]\n",
            " 17%|█▋        | 128k/755k [00:00<00:00, 1.29MB/s]\u001b[A\n",
            "100%|██████████| 755k/755k [00:00<00:00, 3.43MB/s]\n",
            "                 Class     Images  Instances      Box(P          R      mAP50  mAP50-95): 100%|██████████| 1/1 [00:00<00:00,  2.18it/s]"
          ]
        },
        {
          "output_type": "stream",
          "name": "stdout",
          "text": [
            "                   all          3        262    0.00102    0.00714   0.000576   0.000134\n"
          ]
        },
        {
          "output_type": "stream",
          "name": "stderr",
          "text": [
            "\n"
          ]
        },
        {
          "output_type": "stream",
          "name": "stdout",
          "text": [
            "\n",
            "      Epoch    GPU_mem   box_loss   cls_loss   dfl_loss  Instances       Size\n"
          ]
        },
        {
          "output_type": "stream",
          "name": "stderr",
          "text": [
            "      3/100      4.87G       2.92      5.296      1.936        280       1440: 100%|██████████| 1/1 [00:00<00:00,  2.04it/s]\n",
            "                 Class     Images  Instances      Box(P          R      mAP50  mAP50-95): 100%|██████████| 1/1 [00:00<00:00,  2.67it/s]"
          ]
        },
        {
          "output_type": "stream",
          "name": "stdout",
          "text": [
            "                   all          3        262   0.000806    0.00714   0.000507    9.8e-05\n"
          ]
        },
        {
          "output_type": "stream",
          "name": "stderr",
          "text": [
            "\n"
          ]
        },
        {
          "output_type": "stream",
          "name": "stdout",
          "text": [
            "\n",
            "      Epoch    GPU_mem   box_loss   cls_loss   dfl_loss  Instances       Size\n"
          ]
        },
        {
          "output_type": "stream",
          "name": "stderr",
          "text": [
            "\r  0%|          | 0/1 [00:00<?, ?it/s]"
          ]
        }
      ]
    },
    {
      "cell_type": "markdown",
      "source": [],
      "metadata": {
        "id": "qxtstgQmK-Ss"
      }
    },
    {
      "cell_type": "code",
      "source": [
        "import torch\n",
        "device = torch.device('cuda' if torch.cuda.is_available() else 'cpu')\n",
        "print(f\"Using device: {device}\")\n",
        "if device.type == 'cuda':\n",
        "       print(f\"GPU index: {torch.cuda.current_device()}\")\n",
        "\n",
        "if torch.cuda.is_available():\n",
        "        num_gpus = torch.cuda.device_count()\n",
        "        print(f\"Number of GPUs available: {num_gpus}\")\n",
        "        for i in range(num_gpus):\n",
        "            print(f\"GPU {i}: {torch.cuda.get_device_name(i)}\")\n"
      ],
      "metadata": {
        "colab": {
          "base_uri": "https://localhost:8080/"
        },
        "id": "FlqHkSkoVvL-",
        "outputId": "b12a286a-3d9d-4f4d-fe42-c6a63d903207"
      },
      "execution_count": null,
      "outputs": [
        {
          "output_type": "stream",
          "name": "stdout",
          "text": [
            "Using device: cuda\n",
            "GPU index: 0\n",
            "Number of GPUs available: 1\n",
            "GPU 0: Tesla T4\n"
          ]
        }
      ]
    }
  ],
  "metadata": {
    "accelerator": "GPU",
    "colab": {
      "name": "Ultralytics HUB",
      "provenance": [],
      "machine_shape": "hm",
      "gpuType": "T4"
    },
    "kernelspec": {
      "display_name": "Python 3",
      "name": "python3"
    },
    "language_info": {
      "name": "python"
    }
  },
  "nbformat": 4,
  "nbformat_minor": 0
}